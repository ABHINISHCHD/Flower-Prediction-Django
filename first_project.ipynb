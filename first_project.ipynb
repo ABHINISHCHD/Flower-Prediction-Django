{
 "cells": [
  {
   "cell_type": "code",
   "execution_count": 31,
   "id": "7af77d1d",
   "metadata": {},
   "outputs": [],
   "source": [
    "import pandas as pd\n",
    "from sklearn.model_selection import  train_test_split\n",
    "from sklearn.svm import SVC\n",
    "from sklearn.tree import DecisionTreeClassifier\n",
    "from sklearn.datasets import load_iris\n",
    "import numpy as np\n"
   ]
  },
  {
   "cell_type": "code",
   "execution_count": 18,
   "id": "df367e27",
   "metadata": {},
   "outputs": [],
   "source": [
    "obj=load_iris()\n",
    "df=pd.DataFrame(data=obj.data,columns=obj.feature_names)"
   ]
  },
  {
   "cell_type": "code",
   "execution_count": 15,
   "id": "8cf28311",
   "metadata": {},
   "outputs": [],
   "source": [
    "df['output']=obj.target"
   ]
  },
  {
   "cell_type": "code",
   "execution_count": 21,
   "id": "29428884",
   "metadata": {},
   "outputs": [],
   "source": [
    "x_train,x_test,y_train,y_test=train_test_split(df,obj.target,train_size=.7)"
   ]
  },
  {
   "cell_type": "code",
   "execution_count": 26,
   "id": "0b92f5ce",
   "metadata": {},
   "outputs": [],
   "source": [
    "from sklearn.model_selection import cross_val_score"
   ]
  },
  {
   "cell_type": "code",
   "execution_count": 32,
   "id": "d04c8fa4",
   "metadata": {},
   "outputs": [
    {
     "data": {
      "text/plain": [
       "0.9666666666666668"
      ]
     },
     "execution_count": 32,
     "metadata": {},
     "output_type": "execute_result"
    }
   ],
   "source": [
    "np.mean(cross_val_score(DecisionTreeClassifier(),df,obj.target,cv=5))"
   ]
  },
  {
   "cell_type": "code",
   "execution_count": 33,
   "id": "77a176e0",
   "metadata": {},
   "outputs": [],
   "source": [
    "model=DecisionTreeClassifier()"
   ]
  },
  {
   "cell_type": "code",
   "execution_count": 34,
   "id": "403e09f3",
   "metadata": {},
   "outputs": [
    {
     "data": {
      "text/plain": [
       "DecisionTreeClassifier()"
      ]
     },
     "execution_count": 34,
     "metadata": {},
     "output_type": "execute_result"
    }
   ],
   "source": [
    "model.fit(df,obj.target)"
   ]
  },
  {
   "cell_type": "code",
   "execution_count": 36,
   "id": "e387bdeb",
   "metadata": {},
   "outputs": [
    {
     "data": {
      "text/plain": [
       "array([2, 2, 2, 1, 2, 2, 1, 0, 1, 2, 2, 1, 1, 2, 0, 0, 1, 0, 2, 1, 0, 2,\n",
       "       0, 2, 2, 2, 1, 2, 1, 2, 1, 1, 2, 2, 1, 1, 0, 2, 2, 1, 2, 0, 0, 2,\n",
       "       1])"
      ]
     },
     "execution_count": 36,
     "metadata": {},
     "output_type": "execute_result"
    }
   ],
   "source": [
    "model.predict(x_test)"
   ]
  },
  {
   "cell_type": "code",
   "execution_count": 37,
   "id": "d4f675fb",
   "metadata": {},
   "outputs": [],
   "source": [
    "import pickle\n"
   ]
  },
  {
   "cell_type": "code",
   "execution_count": null,
   "id": "0bd9a911",
   "metadata": {},
   "outputs": [],
   "source": [
    "with "
   ]
  }
 ],
 "metadata": {
  "kernelspec": {
   "display_name": "Python 3",
   "language": "python",
   "name": "python3"
  },
  "language_info": {
   "codemirror_mode": {
    "name": "ipython",
    "version": 3
   },
   "file_extension": ".py",
   "mimetype": "text/x-python",
   "name": "python",
   "nbconvert_exporter": "python",
   "pygments_lexer": "ipython3",
   "version": "3.8.8"
  }
 },
 "nbformat": 4,
 "nbformat_minor": 5
}
